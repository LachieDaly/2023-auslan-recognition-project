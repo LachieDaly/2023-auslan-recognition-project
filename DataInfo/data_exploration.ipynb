{
 "cells": [
  {
   "cell_type": "code",
   "execution_count": 10,
   "id": "fb2402a1-47ab-4bfd-8055-de1a486fb02b",
   "metadata": {},
   "outputs": [],
   "source": [
    "import os\n",
    "import csv\n",
    "import pandas as pd\n",
    "df = pd.DataFrame(columns=[\"name\", \"label\", \"frame_count\"])\n",
    "with open(\"../Data/ELAR/train_val_labels.csv\") as label_file:\n",
    "    reader = csv.reader(label_file)\n",
    "    for row in reader:\n",
    "        frame_file = os.path.join(\"../Data/ELAR/avi/\", \"train\", row[0] + '_nframes')\n",
    "        with open(frame_file) as nff:\n",
    "            new_row = {\"name\": row[0], \"label\": row[1], \"frame_count\": int(nff.readline())}\n",
    "            df.loc[len(df)] = new_row"
   ]
  },
  {
   "cell_type": "code",
   "execution_count": 11,
   "id": "277a2884-deaf-487b-b108-e62be127079d",
   "metadata": {},
   "outputs": [
    {
     "data": {
      "text/plain": [
       "label\n",
       "0      64\n",
       "1      61\n",
       "2      94\n",
       "3     277\n",
       "4      54\n",
       "5      63\n",
       "6      53\n",
       "7     177\n",
       "8      81\n",
       "9     191\n",
       "10     95\n",
       "11     63\n",
       "12     91\n",
       "13     43\n",
       "14    110\n",
       "15     85\n",
       "16     91\n",
       "17     88\n",
       "18     76\n",
       "19     54\n",
       "20     73\n",
       "21     68\n",
       "22    106\n",
       "23    229\n",
       "24    100\n",
       "25     83\n",
       "26     70\n",
       "27    168\n",
       "28     68\n",
       "dtype: int64"
      ]
     },
     "execution_count": 11,
     "metadata": {},
     "output_type": "execute_result"
    }
   ],
   "source": [
    "#print(df.head(1))\n",
    "df.label = df.label.astype(int)\n",
    "df.groupby(\"label\").size().sort_index()"
   ]
  },
  {
   "cell_type": "code",
   "execution_count": 15,
   "id": "152cd8e4-a5a7-438a-b11f-2c8d3eaf9cd7",
   "metadata": {},
   "outputs": [
    {
     "data": {
      "text/plain": [
       "name\n",
       "AAM1    49\n",
       "AAM2    36\n",
       "AAPB    94\n",
       "AASB    44\n",
       "ACAA    28\n",
       "        ..\n",
       "SSNA    36\n",
       "SSSB    20\n",
       "STBA    14\n",
       "STCA    56\n",
       "STMB    46\n",
       "Length: 86, dtype: int64"
      ]
     },
     "execution_count": 15,
     "metadata": {},
     "output_type": "execute_result"
    }
   ],
   "source": [
    "df.name = df.name.str[:4]\n",
    "df.groupby('name').size().sort_index()"
   ]
  },
  {
   "cell_type": "code",
   "execution_count": 4,
   "id": "191c0634-3969-4288-993e-5461a99aded3",
   "metadata": {},
   "outputs": [
    {
     "name": "stdout",
     "output_type": "stream",
     "text": [
      "       frame_count\n",
      "count  2876.000000\n",
      "mean     12.390473\n",
      "std       8.877573\n",
      "min       1.000000\n",
      "25%       7.000000\n",
      "50%      10.000000\n",
      "75%      16.000000\n",
      "max      99.000000\n",
      "10.0\n",
      "                   name label  frame_count\n",
      "0    SMGB1C2a55700_Wolf    27           10\n",
      "1  STCA1c2b32538_Rabbit    15            7\n",
      "2      MGCA1c2b3345_Say    18            6\n",
      "3    ADPA1c2a3430_Sheep    19            8\n",
      "4   BGMQB1c2a87150_Come     4           10\n"
     ]
    }
   ],
   "source": [
    "print(df.describe())\n",
    "print(df['frame_count'].median())\n",
    "print(df.head(5))"
   ]
  },
  {
   "cell_type": "code",
   "execution_count": 2,
   "id": "6c11e151-0cc0-49dc-96b3-0defaecb1681",
   "metadata": {},
   "outputs": [
    {
     "name": "stdout",
     "output_type": "stream",
     "text": [
      "[0, 3, 6, 9, 12, 15, 18]\n",
      "[1, 4, 7, 10, 13, 16, 19]\n",
      "[[ 0  1]\n",
      " [ 3  4]\n",
      " [ 6  7]\n",
      " [ 9 10]\n",
      " [12 13]\n",
      " [15 16]\n",
      " [18 19]]\n"
     ]
    }
   ],
   "source": [
    "import json\n",
    "import numpy as np\n",
    "kps = [0, 1, 2, 3, 4, 5, 6, 7, 8, 9, 10, 11, 12, 13, 14, 15, 16, 17, 18, 19, 20]\n",
    "x = kps[0::3]\n",
    "y = kps[1::3]\n",
    "stack = np.stack((x, y), axis=1)\n",
    "\n",
    "print(x)\n",
    "print(y)\n",
    "print(stack)"
   ]
  }
 ],
 "metadata": {
  "kernelspec": {
   "display_name": "Python 3 (ipykernel)",
   "language": "python",
   "name": "python3"
  },
  "language_info": {
   "codemirror_mode": {
    "name": "ipython",
    "version": 3
   },
   "file_extension": ".py",
   "mimetype": "text/x-python",
   "name": "python",
   "nbconvert_exporter": "python",
   "pygments_lexer": "ipython3",
   "version": "3.10.12"
  }
 },
 "nbformat": 4,
 "nbformat_minor": 5
}
