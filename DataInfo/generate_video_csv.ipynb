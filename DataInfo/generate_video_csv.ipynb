{
 "cells": [
  {
   "cell_type": "code",
   "execution_count": 25,
   "id": "f07bcad8",
   "metadata": {},
   "outputs": [
    {
     "name": "stdout",
     "output_type": "stream",
     "text": [
      "                                                path cat  cat_num\n",
      "0  ./Dataset/ELAR/features/mobilenet_temp/train/1...   1        1\n"
     ]
    }
   ],
   "source": [
    "import os\n",
    "import glob\n",
    "import pandas as pd\n",
    "from pathlib import Path\n",
    "\n",
    "# Where our videos are\n",
    "video_path = '../Dataset/ELAR/videos'\n",
    "features_path = '../Dataset/ELAR/features/mobilenet_temp'\n",
    "\n",
    "# Collect all the individual videos\n",
    "# samples_df = pd.DataFrame(glob.glob(video_path + \"/train\" + \"/*/*.avi\"), columns=[\"path\"])\n",
    "samples_df = pd.DataFrame(glob.glob(features_path + \"/train\" + \"/*/*.npy\"), columns=[\"path\"])\n",
    "\n",
    "# Get the class name from path\n",
    "cat_name = samples_df.path.apply(lambda s: s.split(\"/\")[-1].split(\"\\\\\")[1])\n",
    "samples_df[\"cat\"] = cat_name\n",
    "\n",
    "# map the class name to an integer\n",
    "unique_classes = cat_name.unique()\n",
    "class_dict = dict(zip(unique_classes, range(1, len(unique_classes) + 1)))            \n",
    "samples_df['cat_num'] = samples_df['cat'].map(class_dict, na_action='ignore')\n",
    "\n",
    "# remove the extension\n",
    "samples_df.path = samples_df.path.apply(lambda s: \".\" + s.split(\".\")[-2].replace(\"\\\\\", \"/\"))\n",
    "\n",
    "print(samples_df.head(1))\n",
    "\n",
    "cwd = os.getcwd()\n",
    "path = cwd + \"/elar.csv\"\n",
    "#samples_df.to_csv(path)"
   ]
  },
  {
   "cell_type": "code",
   "execution_count": 29,
   "id": "43c2883a",
   "metadata": {},
   "outputs": [
    {
     "name": "stdout",
     "output_type": "stream",
     "text": [
      "   index                                               path  cat  cat_num\n",
      "0      0  ./Dataset/ELAR/features/mobilenet_temp/train/1...    1        1\n",
      "0    1\n",
      "Name: path, dtype: object\n"
     ]
    }
   ],
   "source": [
    "train_df = pd.read_csv(\"ELAR.csv\")\n",
    "print(train_df.head(1))\n",
    "labels = train_df.path.apply(lambda s: s.split(\"/\")[-2])\n",
    "print(labels.head(1))"
   ]
  },
  {
   "cell_type": "code",
   "execution_count": 45,
   "id": "66766a83",
   "metadata": {},
   "outputs": [
    {
     "name": "stdout",
     "output_type": "stream",
     "text": [
      "(18, 1024)\n"
     ]
    }
   ],
   "source": [
    "import numpy as np\n",
    "\n",
    "x = np.load(\".\" + train_df.path[0] + \".npy\")\n",
    "x = x.squeeze()\n",
    "print(x.shape)"
   ]
  },
  {
   "cell_type": "code",
   "execution_count": null,
   "id": "e95190ec",
   "metadata": {},
   "outputs": [],
   "source": []
  }
 ],
 "metadata": {
  "kernelspec": {
   "display_name": "Python 3",
   "language": "python",
   "name": "python3"
  },
  "language_info": {
   "codemirror_mode": {
    "name": "ipython",
    "version": 3
   },
   "file_extension": ".py",
   "mimetype": "text/x-python",
   "name": "python",
   "nbconvert_exporter": "python",
   "pygments_lexer": "ipython3",
   "version": "3.9.13"
  }
 },
 "nbformat": 4,
 "nbformat_minor": 5
}
